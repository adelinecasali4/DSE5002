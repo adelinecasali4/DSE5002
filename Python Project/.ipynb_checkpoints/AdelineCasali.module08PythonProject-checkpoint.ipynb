{
 "cells": [
  {
   "cell_type": "markdown",
   "id": "89fe2a05",
   "metadata": {},
   "source": [
    "# Python Project\n",
    "### Adeline Casali\n",
    "### August 24, 2023"
   ]
  },
  {
   "cell_type": "markdown",
   "id": "313b00a3",
   "metadata": {},
   "source": [
    "### All libraries used loaded below"
   ]
  },
  {
   "cell_type": "code",
   "execution_count": 4,
   "id": "02cef661",
   "metadata": {},
   "outputs": [],
   "source": [
    "import pandas as pd\n",
    "import numpy as np\n",
    "import seaborn as sns\n",
    "import matplotlib.pyplot as plt"
   ]
  },
  {
   "cell_type": "code",
   "execution_count": null,
   "id": "9ed79986",
   "metadata": {},
   "outputs": [],
   "source": []
  }
 ],
 "metadata": {
  "kernelspec": {
   "display_name": "Python 3 (ipykernel)",
   "language": "python",
   "name": "python3"
  },
  "language_info": {
   "codemirror_mode": {
    "name": "ipython",
    "version": 3
   },
   "file_extension": ".py",
   "mimetype": "text/x-python",
   "name": "python",
   "nbconvert_exporter": "python",
   "pygments_lexer": "ipython3",
   "version": "3.10.9"
  }
 },
 "nbformat": 4,
 "nbformat_minor": 5
}
