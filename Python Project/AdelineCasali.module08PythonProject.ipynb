{
 "cells": [
  {
   "cell_type": "markdown",
   "id": "e191ad4e",
   "metadata": {},
   "source": [
    "# Python Project\n",
    "### Adeline Casali\n",
    "### August 24, 2023"
   ]
  },
  {
   "cell_type": "markdown",
   "id": "bc5991ed",
   "metadata": {},
   "source": [
    "### All libraries used loaded below"
   ]
  },
  {
   "cell_type": "code",
   "execution_count": 5,
   "id": "007dd871",
   "metadata": {},
   "outputs": [],
   "source": [
    "import pandas as pd\n",
    "import numpy as np\n",
    "import seaborn as sns\n",
    "import matplotlib.pyplot as plt"
   ]
  },
  {
   "cell_type": "markdown",
   "id": "36d6ad46",
   "metadata": {},
   "source": [
    "### All data loaded in below"
   ]
  },
  {
   "cell_type": "code",
   "execution_count": null,
   "id": "8a1489d6",
   "metadata": {},
   "outputs": [],
   "source": []
  }
 ],
 "metadata": {
  "kernelspec": {
   "display_name": "Python 3 (ipykernel)",
   "language": "python",
   "name": "python3"
  },
  "language_info": {
   "codemirror_mode": {
    "name": "ipython",
    "version": 3
   },
   "file_extension": ".py",
   "mimetype": "text/x-python",
   "name": "python",
   "nbconvert_exporter": "python",
   "pygments_lexer": "ipython3",
   "version": "3.10.9"
  }
 },
 "nbformat": 4,
 "nbformat_minor": 5
}
