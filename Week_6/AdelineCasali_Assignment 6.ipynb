{
 "cells": [
  {
   "cell_type": "markdown",
   "id": "868f20a6",
   "metadata": {},
   "source": [
    "# Assignment 6\n",
    "### Adeline Casali\n",
    "### August 9, 2023"
   ]
  },
  {
   "cell_type": "markdown",
   "id": "6b3cc38d",
   "metadata": {},
   "source": [
    "## Question 1\n",
    "1) import the random library. \n",
    "\n",
    "2) Use `random.seed(10)` to initialize a pseudorandom number generator. \n",
    "\n",
    "3) Create a list of 50 random integers from 0 to 15. Call this list `int_list`.\n",
    "\n",
    "4) Print the 10th and 30th elements of the list. \n",
    "\n",
    "You will need to use list comprehension to do this. The syntax for list comprehension is: <new_list> = `[<expression> for <item> in <iterable>]`. For this question your expression will be a randint generator from the random library and your iterable will be `range()`. Researh the documentation on how to use both functions. "
   ]
  },
  {
   "cell_type": "code",
   "execution_count": 1,
   "id": "7abe6a13",
   "metadata": {},
   "outputs": [
    {
     "name": "stdout",
     "output_type": "stream",
     "text": [
      "10th Element: 1\n",
      "30th Element: 7\n"
     ]
    }
   ],
   "source": [
    "# (1) Import random library\n",
    "import random\n",
    "\n",
    "# (2) Initialize pseudorandom number generator\n",
    "random.seed(10) \n",
    "\n",
    "# (3) Create a list of 50 random integers\n",
    "int_list = [random.randint(0, 15) for _ in range(50)]\n",
    "\n",
    "# (4) Print the 10th and 30th elements\n",
    "print(\"10th Element:\", int_list[9])\n",
    "print(\"30th Element:\", int_list[29])\n"
   ]
  },
  {
   "cell_type": "markdown",
   "id": "48d4d289",
   "metadata": {},
   "source": [
    "## Question 2\n",
    "1) import the string library.\n",
    "\n",
    "2) Create the string `az_upper` using `string.ascii_uppercase`. This is a single string of uppercase letters\n",
    "\n",
    "3) Create a list of each individual letter from the string. To do this you will need to iterate over the string and append each letter to the an empty list. Call this list `az_list`. \n",
    "\n",
    "4) Print the list.\n",
    "\n",
    "You will need to use a for-loop for this. The syntax for this for-loop should be: \n",
    "\n",
    "`for i in string>:\n",
    "   <list operation>\n",
    "`"
   ]
  },
  {
   "cell_type": "code",
   "execution_count": 2,
   "id": "e259b56f",
   "metadata": {},
   "outputs": [
    {
     "name": "stdout",
     "output_type": "stream",
     "text": [
      "['A', 'B', 'C', 'D', 'E', 'F', 'G', 'H', 'I', 'J', 'K', 'L', 'M', 'N', 'O', 'P', 'Q', 'R', 'S', 'T', 'U', 'V', 'W', 'X', 'Y', 'Z']\n"
     ]
    }
   ],
   "source": [
    "# (1) Import string library\n",
    "import string\n",
    "\n",
    "# (2) Create the string containing uppercase letters\n",
    "az_upper = string.ascii_uppercase\n",
    "\n",
    "# (3) Initialize an empty list and iterate over the string and append each letter to the list\n",
    "az_list = []\n",
    "\n",
    "for i in az_upper:\n",
    "    az_list.append(i)\n",
    "\n",
    "# (4) Print the list\n",
    "print(az_list)\n"
   ]
  },
  {
   "cell_type": "markdown",
   "id": "5b775542",
   "metadata": {},
   "source": [
    "## Question 3\n",
    "1) Create a set from 1 to 5. Call this `set_1`.\n",
    "\n",
    "2) Create a set from int_list. Call this `set_2`.\n",
    "\n",
    "3) Create a set by finding the `symmetric_difference()` of `set_1` and `set_2`. Call this `set_3`.\n",
    "\n",
    "4) What is the length of all three sets?\n",
    "\n"
   ]
  },
  {
   "cell_type": "code",
   "execution_count": 3,
   "id": "4300df51",
   "metadata": {},
   "outputs": [
    {
     "name": "stdout",
     "output_type": "stream",
     "text": [
      "Length of set_1: 5\n",
      "Length of set_2: 15\n",
      "Length of set_3: 12\n"
     ]
    }
   ],
   "source": [
    "# (1) Create set_1 from 1 to 5\n",
    "set_1 = set(range(1, 6))\n",
    "\n",
    "# (2) Create set_2 from int_list\n",
    "set_2 = set(int_list)\n",
    "\n",
    "# (3) Create set_3 by finding the symmetric difference of set_1 and set_2\n",
    "set_3 = set_1.symmetric_difference(set_2)\n",
    "\n",
    "# (4) Print the lengths of the sets\n",
    "print(\"Length of set_1:\", len(set_1))\n",
    "print(\"Length of set_2:\", len(set_2))\n",
    "print(\"Length of set_3:\", len(set_3))\n"
   ]
  },
  {
   "cell_type": "markdown",
   "id": "7cd5e698",
   "metadata": {},
   "source": [
    "## Question 4\n",
    "1) Import default dict and set the default value to 'Not Present'. Call this dict_1.\n",
    "\n",
    "2) Add `int_list`, `set_2`, and `set_3` to `dict_1` using the object names as the key names. \n",
    "\n",
    "3) Create a new dictionary, `dict_2`, using curly bracket notation with `set_1` and `az_list` as the keys and values. \n",
    "\n",
    "4) Invoke the default value of `dict_1` by trying to access the key `az_list`. Create a new set named `set_4` from the value of `dict_1['az_list']`. What is the lenght of the difference between `dict_2['az_list']` and `set_4'?\n",
    "\n",
    "5) Update `dict_2` with `dict_1`. Print the value of the key `az_list` from `dict_2`. What happened?\n",
    "\n",
    "\n",
    "\n",
    "\n"
   ]
  },
  {
   "cell_type": "code",
   "execution_count": 10,
   "id": "6c85d4be",
   "metadata": {},
   "outputs": [
    {
     "name": "stdout",
     "output_type": "stream",
     "text": [
      "Length difference: 24\n",
      "Value of 'az_list' in dict_2: Not Present\n"
     ]
    }
   ],
   "source": [
    "# (1) Import default dict and create defaultdict with default value 'Not Present'\n",
    "from collections import defaultdict\n",
    "\n",
    "dict_1 = defaultdict(lambda: 'Not Present')\n",
    "\n",
    "# (2) Add int_list, set_2, and set_3 to dict_1\n",
    "dict_1['int_list'] = int_list\n",
    "dict_1['set_2'] = set_2\n",
    "dict_1['set_3'] = set_3\n",
    "\n",
    "# (3) Create dict_2 using curly bracket notation\n",
    "dict_2 = {'set_1': set_1, 'az_list': set(az_list)} \n",
    "\n",
    "# (4) Access non-existent key 'az_list' in dict_1, create set_4 and calculate length difference\n",
    "dict_1['az_list']\n",
    "\n",
    "set_4 = set(dict_1['az_list'])\n",
    "\n",
    "length_difference = len(dict_2['az_list'].difference(set_4))\n",
    "print(\"Length difference:\", length_difference)\n",
    "\n",
    "# (5) Update dict_2 with dict_1 and print the value of 'az_list' key from dict_2\n",
    "dict_2.update(dict_1)\n",
    "\n",
    "print(\"Value of 'az_list' in dict_2:\", dict_2['az_list'])\n",
    "\n",
    "# In this example, the value of az_list in dict_2 was changed based on the value of it in dict_1, because dict_2 \n",
    "# was updated based on dict_1. Dict_1 did not contain az_list, but we called it and due to the default dict value\n",
    "# being set to Not Present, that was then the key/value pair. When dict_2 was updated based on that, the value \n",
    "# associated with az_list then changed to Not Present as well. \n"
   ]
  }
 ],
 "metadata": {
  "kernelspec": {
   "display_name": "Python 3 (ipykernel)",
   "language": "python",
   "name": "python3"
  },
  "language_info": {
   "codemirror_mode": {
    "name": "ipython",
    "version": 3
   },
   "file_extension": ".py",
   "mimetype": "text/x-python",
   "name": "python",
   "nbconvert_exporter": "python",
   "pygments_lexer": "ipython3",
   "version": "3.10.12"
  }
 },
 "nbformat": 4,
 "nbformat_minor": 5
}
