{
 "cells": [
  {
   "cell_type": "markdown",
   "id": "5b5258fe",
   "metadata": {},
   "source": [
    "# Assignment 7\n",
    "### Adeline Casali\n",
    "### August 15, 2023"
   ]
  },
  {
   "cell_type": "markdown",
   "id": "c0ebfbde",
   "metadata": {},
   "source": [
    "## Question 1\n",
    "A palindrome is a word, phrase, or sequence that is the same spelled forward as it is backwards.\n",
    "Write a function using a for-loop to determine if a string is a palindrome. Your function should only have one argument. "
   ]
  },
  {
   "cell_type": "code",
   "execution_count": 1,
   "id": "75b35247",
   "metadata": {},
   "outputs": [
    {
     "name": "stdout",
     "output_type": "stream",
     "text": [
      "True\n",
      "False\n"
     ]
    }
   ],
   "source": [
    "# Define the function palindrome\n",
    "def palindrome(string):\n",
    "    # Convert the input string to lowercase to make the comparison case-insensitive\n",
    "    string = string.lower()\n",
    "\n",
    "    # Initialize a variable to store the reversed version of the input string\n",
    "    reversed_string = \"\"\n",
    "\n",
    "    # Iterate through each character in the input string in reverse order\n",
    "    for char in reversed(string):\n",
    "        reversed_string += char\n",
    "\n",
    "    # Compare the original input string with the reversed_string\n",
    "    if string == reversed_string:\n",
    "        return True\n",
    "    else:\n",
    "        return False\n",
    "\n",
    "# Test\n",
    "print(palindrome(\"racecar\"))\n",
    "print(palindrome(\"hello\"))\n"
   ]
  },
  {
   "cell_type": "markdown",
   "id": "c6916bad",
   "metadata": {},
   "source": [
    "## Question 2\n",
    "Write a function using a while-loop to determine if a string is a palindrome. Your function should only have one argument. "
   ]
  },
  {
   "cell_type": "code",
   "execution_count": 3,
   "id": "c0f1525d",
   "metadata": {},
   "outputs": [
    {
     "name": "stdout",
     "output_type": "stream",
     "text": [
      "True\n",
      "False\n"
     ]
    }
   ],
   "source": [
    "# Define the function palindrome\n",
    "def palindrome(string):\n",
    "    # Convert the input string to lowercase to make the comparison case-insensitive\n",
    "    string = string.lower()\n",
    "\n",
    "    # Initialize two pointers at beginning and end of the string\n",
    "    start = 0\n",
    "    end = len(string) - 1\n",
    "\n",
    "    # While the start pointer is less than the end pointer\n",
    "    while start < end:\n",
    "        # Compare characters at the current positions of start and end pointers\n",
    "        if string[start] != string[end]:\n",
    "            return False  # If characters don't match, it's not a palindrome\n",
    "        start += 1  # Move the start pointer forward\n",
    "        end -= 1    # Move the end pointer backward\n",
    "\n",
    "    return True  # If the loop completes without returning False, it's a palindrome\n",
    "\n",
    "# Test\n",
    "print(palindrome(\"racecar\"))\n",
    "print(palindrome(\"hello\"))\n"
   ]
  },
  {
   "cell_type": "markdown",
   "id": "d85c8321",
   "metadata": {},
   "source": [
    "## Question 3\n",
    "Two Sum - Write a function named two_sum()\n",
    "Given a vector of integers nums and an integer target, return indices of the two numbers such that they add\n",
    "up to target. You may assume that each input would have exactly one solution, and you may not use the same element\n",
    "twice. You can return the answer in any order.Use defaultdict and hash maps/tables to complete this problem. \n",
    "\n",
    "Example 1:\n",
    "Input: `nums = [2,7,11,15]`, target = 9 Output: `[0,1]` Explanation: Because `nums[0] + nums[1] == 9`, we\n",
    "return `[0, 1]`. \n",
    "\n",
    "Example 2:\n",
    "Input: `nums = [3,2,4]`, `target = 6 Output: [1,2]` \n",
    "\n",
    "Example 3:\n",
    "Input: `nums = [3,3]`, `target = 6 Output: [0,1]`\n",
    "\n",
    "Constraints:\n",
    "`2 <= nums.length <= 104 –109 <= nums[i] <= 109 –109 <= target <= 109` Only one valid answer exists."
   ]
  },
  {
   "cell_type": "code",
   "execution_count": 5,
   "id": "46a63aa3",
   "metadata": {},
   "outputs": [
    {
     "name": "stdout",
     "output_type": "stream",
     "text": [
      "[0, 1]\n"
     ]
    }
   ],
   "source": [
    "# Import defaultdict\n",
    "from collections import defaultdict\n",
    "\n",
    "# Define the function two_sum\n",
    "def two_sum(nums, target):\n",
    "    num_indices = defaultdict(list)  # defaultdict to store the indices of each number\n",
    "\n",
    "    for i, num in enumerate(nums):\n",
    "        complement = target - num\n",
    "        if complement in num_indices:\n",
    "            return [num_indices[complement][0], i]\n",
    "        \n",
    "        num_indices[num].append(i)\n",
    "\n",
    "# Test\n",
    "print(two_sum([2, 7, 11, 15], 9))\n"
   ]
  },
  {
   "cell_type": "markdown",
   "id": "9ec37669",
   "metadata": {},
   "source": [
    "## Question 4\n",
    "How is a negative index used in Python? Show an example"
   ]
  },
  {
   "cell_type": "code",
   "execution_count": 8,
   "id": "3c646d4e",
   "metadata": {},
   "outputs": [
    {
     "name": "stdout",
     "output_type": "stream",
     "text": [
      "5\n",
      "4\n",
      "3\n",
      "!\n",
      "c\n"
     ]
    }
   ],
   "source": [
    "# Negative indexing is used to access elements from the end of a sequence. \n",
    "# That way, you can access elements in resverse order and not need to know the length of a sequence. \n",
    "\n",
    "# Example with a list\n",
    "list = [1, 2, 3, 4, 5]\n",
    "\n",
    "print(list[-1])\n",
    "print(list[-2])\n",
    "print(list[-3])\n",
    "\n",
    "# Example with a string\n",
    "string = \"Python is cool!\"\n",
    "\n",
    "print(string[-1])  \n",
    "print(string[-5])\n"
   ]
  },
  {
   "cell_type": "markdown",
   "id": "3128782b",
   "metadata": {},
   "source": [
    "## Question 5\n",
    "Check if two given strings are isomorphic to each other. Two strings str1 and str2 are called isomorphic if there is a one-to-one mapping possible for every character of str1 to every character of str2. And all occurrences of every character in ‘str1’ map to the same character in ‘str2’.\n",
    "\n",
    "`Input:  str1 = \"aab\", str2 = \"xxy\"`\n",
    "\n",
    "`Output: True`\n",
    "\n",
    "`'a' is mapped to 'x' and 'b' is mapped to 'y'.`\n",
    "\n",
    "`Input:  str1 = \"aab\", str2 = \"xyz\"`\n",
    "\n",
    "`Output: False`\n",
    "\n",
    "`One occurrence of 'a' in str1 has 'x' in str2 and other occurrence of 'a' has 'y'.`\n",
    "\n",
    "A Simple Solution is to consider every character of ‘str1’ and check if all occurrences of it map to the same character in ‘str2’. The time complexity of this solution is O(n*n).\n",
    "\n",
    "An Efficient Solution can solve this problem in O(n) time. The idea is to create an array to store mappings of processed characters. \n"
   ]
  },
  {
   "cell_type": "code",
   "execution_count": 10,
   "id": "53f3a149",
   "metadata": {},
   "outputs": [
    {
     "name": "stdout",
     "output_type": "stream",
     "text": [
      "True\n",
      "False\n"
     ]
    }
   ],
   "source": [
    "# Define the function isomorphic\n",
    "def isomorphic(str1, str2):\n",
    "    if len(str1) != len(str2): # Check if lengths of strings are equal\n",
    "        return False\n",
    "\n",
    "    mapping = {}  # To store character mappings\n",
    "\n",
    "    # Iterate through the characters in both strings\n",
    "    for i in range(len(str1)):\n",
    "        char1 = str1[i]\n",
    "        char2 = str2[i]\n",
    "\n",
    "        # If char1 is already mapped, check if the mapping is consistent with char2\n",
    "        if char1 in mapping:\n",
    "            if mapping[char1] != char2:\n",
    "                return False\n",
    "        else:\n",
    "            # Check if char2 is already used as a mapping for another char in str1\n",
    "            if char2 in mapping.values():\n",
    "                return False\n",
    "            mapping[char1] = char2\n",
    "\n",
    "    return True\n",
    "\n",
    "# Test cases\n",
    "print(isomorphic(\"aab\", \"xxy\"))\n",
    "print(isomorphic(\"aab\", \"xyz\"))\n"
   ]
  }
 ],
 "metadata": {
  "kernelspec": {
   "display_name": "Python 3 (ipykernel)",
   "language": "python",
   "name": "python3"
  },
  "language_info": {
   "codemirror_mode": {
    "name": "ipython",
    "version": 3
   },
   "file_extension": ".py",
   "mimetype": "text/x-python",
   "name": "python",
   "nbconvert_exporter": "python",
   "pygments_lexer": "ipython3",
   "version": "3.10.9"
  }
 },
 "nbformat": 4,
 "nbformat_minor": 5
}
